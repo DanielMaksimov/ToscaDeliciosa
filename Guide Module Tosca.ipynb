{
 "cells": [
  {
   "cell_type": "markdown",
   "id": "9a754ad0",
   "metadata": {},
   "source": [
    "# Principales fonctions et leur utilisation"
   ]
  },
  {
   "cell_type": "code",
   "execution_count": null,
   "id": "451763c1",
   "metadata": {},
   "outputs": [],
   "source": [
    "import tosca_deliciosa as td"
   ]
  },
  {
   "cell_type": "markdown",
   "id": "bf610162",
   "metadata": {},
   "source": [
    "Pour télécharger les données de température et de précipitation issues d'ERA5, il suffit d'utiliser la fonction **get_climate_data**"
   ]
  },
  {
   "cell_type": "code",
   "execution_count": null,
   "id": "a3aacb56",
   "metadata": {},
   "outputs": [],
   "source": [
    "annee = 2021 # L'année à étudier\n",
    "mois = [1,2,3] # La liste des moix à étudier\n",
    "bounding_box = [-14, -49, -15, -48] # Les coordoonées [ymax, xmin, ymin, xmax] de la zone à étudier\n",
    "fichier = \"/home/donnees_era.nc\"\n",
    "\n",
    "td.get_climate_data(annee, mois, bounding_box, fichier)"
   ]
  },
  {
   "cell_type": "markdown",
   "id": "b7b10ea9",
   "metadata": {},
   "source": [
    "Pour télécharger les images Sentinel-2 et extraire le NDVI, NMDI, NDWI et NBR sur une plage de temps donnée, il faut utiliser la fonction **download_image_tile** si l'on souhaite travailler avec des tuiles, et **download_image_gdf** si l'on souhaite travailler avec des shapefiles."
   ]
  },
  {
   "cell_type": "code",
   "execution_count": null,
   "id": "cdd92c42",
   "metadata": {},
   "outputs": [],
   "source": [
    "# Tuile\n",
    "date_debut = \"2022-01-25\" # 25 janvier 2022\n",
    "date_fin = \"2022-02-25\"\n",
    "liste_tuiles = [\"31TEJ\"]\n",
    "fichier = \"/home/donnees_satellite.h5\"\n",
    "\n",
    "td.download_image_tile(date_debut, date_fin, liste_tuiles, fichier)\n",
    "\n",
    "# Shapefile\n",
    "geodataframe = \"/home/monfichier.shp\"\n",
    "td.download_image_gdf(date_debut, date_fin, geodataframe, fichier)"
   ]
  }
 ],
 "metadata": {
  "kernelspec": {
   "display_name": "tosca_deliciosa",
   "language": "python",
   "name": "tosca_deliciosa"
  },
  "language_info": {
   "codemirror_mode": {
    "name": "ipython",
    "version": 3
   },
   "file_extension": ".py",
   "mimetype": "text/x-python",
   "name": "python",
   "nbconvert_exporter": "python",
   "pygments_lexer": "ipython3",
   "version": "3.6.13"
  }
 },
 "nbformat": 4,
 "nbformat_minor": 5
}
